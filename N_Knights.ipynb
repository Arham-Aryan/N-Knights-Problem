{
  "nbformat": 4,
  "nbformat_minor": 0,
  "metadata": {
    "colab": {
      "provenance": []
    },
    "kernelspec": {
      "name": "python3",
      "display_name": "Python 3"
    },
    "language_info": {
      "name": "python"
    }
  },
  "cells": [
    {
      "cell_type": "code",
      "execution_count": null,
      "metadata": {
        "id": "D2YCPHI972Ne"
      },
      "outputs": [],
      "source": [
        "global N\n",
        "N = 4\n",
        "\n",
        "def printSolution(board):\n",
        "  \"\"\"Print N queen board\n",
        "  \"\"\"\n",
        "  for i in range(N):\n",
        "    for j in range(N):\n",
        "      print(board[i][j], end= ' ')\n",
        "    print()\n",
        "\n",
        "def isSafe(board,row,col):\n",
        "  for r,c in [(-2,1),(-1,2),(2,1),(2,-1),(1,-2),(-2,-1),(-1,-2),(1,2)]:\n",
        "    try:\n",
        "      if board[row+r][col+r] != 0:\n",
        "        return False\n",
        "    except IndexError:\n",
        "      pass\n",
        "  return True\n",
        ""
      ]
    },
    {
      "cell_type": "code",
      "source": [
        "def solve_nq_util(board,col):\n",
        "  # base case: If all queens are places\n",
        "  # then return true\n",
        "  if col >= N:\n",
        "    return True\n",
        "\n",
        "  # Consider this column and try placing queens in all rows one by one\n",
        "  for i in range(N):\n",
        "    if isSafe(board, i , col):\n",
        "      # Plase this queen in board[i][col]\n",
        "      board[i][col] = 1\n",
        "\n",
        "      # recursive apporach to place rest of the queens\n",
        "      if solve_nq_util(board, col+1) == True:\n",
        "        return True\n",
        "\n",
        "      # if placing queen in board[i][col]\n",
        "      # doesnt lead to a solution, then\n",
        "      # queen from board [i][col]\n",
        "      board[i][col] = 0\n",
        "\n",
        "  # if this queen can not be placed in any row in\n",
        "  # this column col then return false\n",
        "  return False"
      ],
      "metadata": {
        "id": "hvSEbx6w8Hqz"
      },
      "execution_count": null,
      "outputs": []
    },
    {
      "cell_type": "code",
      "source": [
        "def solve_nq():\n",
        "  \"\"\"\n",
        "  This function solves the N queen problem using\n",
        "  backtracking. It manily uses solve_nq_util() to\n",
        "  solve the problem.\n",
        "  It returns false if queens cannont be placed, otherwise\n",
        "  return true and placement of queens in the form of 1s.\n",
        "  not that there may be more than one solutions, this function prints\n",
        "  one of the feasible solutions\n",
        "  \"\"\"\n",
        "  board = [[1,1,1,1],\n",
        "           [0,0,0,0],\n",
        "           [0,0,0,0],\n",
        "           [0,0,0,0]\n",
        "           ]\n",
        "  if solve_nq_util(board,0)==False:\n",
        "    print(\"Solution does not exist\")\n",
        "    return False\n",
        "\n",
        "  printSolution(board)\n",
        "  return True\n"
      ],
      "metadata": {
        "id": "Nht5lO9u8Qza"
      },
      "execution_count": null,
      "outputs": []
    },
    {
      "cell_type": "code",
      "source": [
        "solve_nq()"
      ],
      "metadata": {
        "colab": {
          "base_uri": "https://localhost:8080/"
        },
        "id": "dMYPkCFH_LRq",
        "outputId": "c9753154-c16c-4a37-d937-4722802799a9"
      },
      "execution_count": null,
      "outputs": [
        {
          "output_type": "stream",
          "name": "stdout",
          "text": [
            "1 1 1 1 \n",
            "0 0 0 0 \n",
            "0 0 0 0 \n",
            "0 0 0 0 \n"
          ]
        },
        {
          "output_type": "execute_result",
          "data": {
            "text/plain": [
              "True"
            ]
          },
          "metadata": {},
          "execution_count": 11
        }
      ]
    }
  ]
}